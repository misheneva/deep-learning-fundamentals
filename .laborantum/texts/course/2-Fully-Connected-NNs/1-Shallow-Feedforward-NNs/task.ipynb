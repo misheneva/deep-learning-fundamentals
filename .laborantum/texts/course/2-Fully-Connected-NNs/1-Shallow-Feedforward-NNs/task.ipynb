{
    "cells": [
        {
            "cell_type": "code",
            "execution_count": 45,
            "metadata": {},
            "outputs": [
                {
                    "name": "stdout",
                    "output_type": "stream",
                    "text": [
                        "The autoreload extension is already loaded. To reload it, use:\n",
                        "  %reload_ext autoreload\n"
                    ]
                }
            ],
            "source": [
                "# The following lines enable automatic reloading of modules in an IPython/Jupyter environment.\n",
                "# They work exactly like the commented lines below, but avoid errors when not running in such an environment.\n",
                "# %load_ext autoreload\n",
                "# %autoreload 2\n",
                "\n",
                "try:\n",
                "    # Only defined inside IPython/Jupyter\n",
                "    get_ipython().run_line_magic(\"load_ext\", \"autoreload\")\n",
                "    get_ipython().run_line_magic(\"autoreload\", \"2\")\n",
                "except (NameError, AttributeError):\n",
                "    # Not running in IPython → just ignore\n",
                "    pass"
            ]
        },
        {
            "cell_type": "code",
            "execution_count": 46,
            "metadata": {},
            "outputs": [],
            "source": [
                "# Initializing answer variable\n",
                "answer = {}"
            ]
        },
        {
            "cell_type": "code",
            "execution_count": null,
            "metadata": {},
            "outputs": [],
            "source": []
        },
        {
            "cell_type": "code",
            "execution_count": 47,
            "metadata": {
                "colab": {},
                "colab_type": "code",
                "id": "DWr6cvb9pS3J"
            },
            "outputs": [],
            "source": [
                "# Some libs that we will use\n",
                "import torch\n",
                "import random\n",
                "import numpy as np\n",
                "import json_tricks\n",
                "import lovely_tensors as lt\n",
                "\n",
                "\n",
                "# Making tensor printouts better\n",
                "lt.monkey_patch()\n",
                "\n",
                "# Adding sources to the pythonpath\n",
                "import sys\n",
                "root_path = '../../../..'\n",
                "sys.path.append(root_path)\n",
                "\n",
                "import dotenv\n",
                "dotenv.load_dotenv(dotenv.find_dotenv(root_path + '/.env'))\n",
                "\n",
                "# Importing sources of our project\n",
                "import src as src"
            ]
        },
        {
            "cell_type": "markdown",
            "metadata": {},
            "source": [
                "# Task 0: Prepare the environment"
            ]
        },
        {
            "cell_type": "markdown",
            "metadata": {},
            "source": [
                "For that you have to fill out the function in `src/utils/seed.py`\n",
                "\n",
                "Inside this function you should initialize the libs:\n",
                "- `numpy`\n",
                "- `random`\n",
                "- `torch`\n",
                "\n",
                "It is important for the reproducibility of your code and is always important when running experiments\n",
                "\n",
                "Note that in `torch` you have to seed both `cpu` part of the package along with `gpu` part of the package\n",
                "\n",
                "Yet another important thing to do there is to switch `gpu` to deterministic backend. Otherwise the experiments will not be fully reproducible"
            ]
        },
        {
            "cell_type": "code",
            "execution_count": 48,
            "metadata": {},
            "outputs": [],
            "source": [
                "src.utils.seed.seed_all(0)"
            ]
        },
        {
            "cell_type": "markdown",
            "metadata": {},
            "source": [
                "# Training a Fully Connected Feedforward Neural Network"
            ]
        },
        {
            "cell_type": "markdown",
            "metadata": {},
            "source": [
                "In this exercise we will train an FCNN to classify digits into 10 classes (0, 1, 2, ..., 9).\n",
                "\n",
                "To build such network, we will use:\n",
                "- Fully Connected NN\n",
                "- Adam Optimizer\n",
                "- MNIST dataset\n",
                "- Accuracy metrics\n",
                "- Softmax final activation loss function (but we will embed it into the loss function)\n",
                "- Cross-Entropy loss\n",
                "\n",
                "But what really is important in this exercise is that we will build all the elements that we will in the future use to train all other networks. Thus, this exercise is needed to settle the basis for all our future experiments. If you will work with training neural networks, you will use all that we will touch in this notebook in different scenarios.\n",
                "\n",
                "Thus, this notebook is way closer to the real training scenarios than the previous ones."
            ]
        },
        {
            "cell_type": "markdown",
            "metadata": {},
            "source": [
                "# Task 1: Prepare the data\n",
                "\n",
                "What you will be doing in this task is preparing your first dataloader class for one of the most popular datasets for Machine Learning -- MNIST\n",
                "\n",
                "The task is to fill out `src/datasets/mnist_simple.py` file so that you get a correctly working class of dataset (this file should open in parallel to your notebook).\n",
                "\n",
                "You have to fill out the following parts of code:\n",
                "- `__init__` function (a constructor)\n",
                "- `__len__` function (an operator of `len(object)`)\n",
                "- `__getitem__` function (that enables indexing in form of `object[index]`)\n",
                "\n",
                "You will be doing all that when you will be writing your own datasets with one exception: your classes will have significantly more complicated logics.\n",
                "\n",
                "The task here is:\n",
                "- In `__init__` get MNIST dataset from `torchvision.datasets` and initialize it. \n",
                "    Store the data in your home directory (`~/`) to avoid overloading your repo. \n",
                "    Note that you have to account for training and validation datasets that are controlled by the flag `train`\n",
                "- In `__getlen__` the task is to return the number of samples in your data. \n",
                "    It should be number of images in the dataset object\n",
                "\n",
                "- Lastly, you have to implement indexing operator `__getitem__(self, index)`\n",
                "    In this method you should:\n",
                "    - get the image\n",
                "    - get the label\n",
                "    - preprocess the image. This step contains:\n",
                "        - transform the image to a float tensor (the reason is that half is not suppoerted for CPUs)\n",
                "        - a good practice is to normalize the input data to have mean 0 and variance 1, so we should normalize it.\n",
                "            Althouth we do not know exactly the mean and the variance of the dataset, but assuming that every pixel\n",
                "            is in the range 0-255, we can assume that the mean is 127 and the variance is 127.\n",
                "            So we can approximately normalize the input by (x / 255) * 2 - 1\n",
                "            Yes, that is not an exact normalization, but haaving data within range (-1, 1) is a good approximation of normalization\n",
                "    - return the image and the label\n",
                "\n",
                "After that fill out the cell below that initializes objects of the class"
            ]
        },
        {
            "cell_type": "code",
            "execution_count": 49,
            "metadata": {
                "colab": {},
                "colab_type": "code",
                "id": "MqGQWTDIpS3R"
            },
            "outputs": [],
            "source": [
                "import torch\n",
                "import torchvision.datasets as datasets\n",
                "from torchvision import transforms\n",
                "\n",
                "from src.datasets.mnist_simple import MNISTSimpleDataset\n",
                "\n",
                "## YOUR CODE HERE\n",
                "class MNISTSimple:\n",
                "    def __init__(self, train=True, root='~/'):\n",
                "        transform = transforms.Compose([\n",
                "            transforms.ToTensor(),\n",
                "            transforms.Normalize((0.5,), (0.5,))  \n",
                "        ])\n",
                "        self.dataset = datasets.MNIST(\n",
                "            root=root,\n",
                "            train=train,\n",
                "            download=True,\n",
                "            transform=transform\n",
                "        )\n",
                "    \n",
                "    def __len__(self):\n",
                "        return len(self.dataset)\n",
                "    \n",
                "    def __getitem__(self, index):\n",
                "        image, label = self.dataset[index]\n",
                "        image = image.float().squeeze(0)\n",
                "        label = torch.tensor(label, dtype=torch.int64)\n",
                "        return {\n",
                "            'image': image,\n",
                "            'label': label\n",
                "        }\n",
                "\n",
                "# MNIST_train = MNISTSimple(train=True)\n",
                "# MNIST_valid = MNISTSimple(train=False)\n",
                "\n",
                "MNIST_train = MNISTSimpleDataset(train=True)\n",
                "MNIST_valid = MNISTSimpleDataset(train=False)\n",
                "\n"
            ]
        },
        {
            "cell_type": "markdown",
            "metadata": {},
            "source": [
                "Check that the data is prepared:"
            ]
        },
        {
            "cell_type": "code",
            "execution_count": 50,
            "metadata": {
                "colab": {},
                "colab_type": "code",
                "id": "vv_Lz7PYpS3U"
            },
            "outputs": [
                {
                    "name": "stdout",
                    "output_type": "stream",
                    "text": [
                        "{'image': tensor[28, 28] n=784 (3.1Kb) x∈[-1.000, 1.000] μ=-0.725 σ=0.625, 'label': tensor i64 5}\n",
                        "tensor[28, 28] n=784 (3.1Kb) x∈[-1.000, 1.000] μ=-0.725 σ=0.625\n",
                        "tensor[28, 28] n=784 (3.1Kb) x∈[-1.000, 1.000] μ=-0.815 σ=0.518\n"
                    ]
                }
            ],
            "source": [
                "train_sample = MNIST_train[0]\n",
                "valid_sample = MNIST_valid[0]\n",
                "\n",
                "X_train = train_sample['image']\n",
                "X_valid = valid_sample['image']\n",
                "y_train = train_sample['label']\n",
                "y_valid = valid_sample['label']\n",
                "\n",
                "print(MNIST_train[0])\n",
                "print(X_train)\n",
                "print(X_valid)"
            ]
        },
        {
            "cell_type": "code",
            "execution_count": 51,
            "metadata": {
                "colab": {
                    "base_uri": "https://localhost:8080/",
                    "height": 35
                },
                "colab_type": "code",
                "id": "hMhsAedlrQF5",
                "outputId": "ae08bd21-79ff-48da-9886-48996a178110"
            },
            "outputs": [
                {
                    "name": "stdout",
                    "output_type": "stream",
                    "text": [
                        "torch.float32 torch.float32 torch.int64 torch.int64\n",
                        "torch.Size([28, 28]) torch.Size([28, 28]) torch.Size([]) torch.Size([])\n",
                        "tensor[28, 28] n=784 (3.1Kb) x∈[-1.000, 1.000] μ=-0.725 σ=0.625\n",
                        "tensor[28, 28] n=784 (3.1Kb) x∈[-1.000, 1.000] μ=-0.815 σ=0.518\n",
                        "tensor i64 5\n",
                        "tensor i64 7\n"
                    ]
                }
            ],
            "source": [
                "## This checks are for dataset verification\n",
                "answer['X_train.dtype'] = str(X_train.dtype)\n",
                "answer['y_train.dtype'] = str(y_train.dtype)\n",
                "answer['X_valid.dtype'] = str(X_valid.dtype)\n",
                "answer['y_valid.dtype'] = str(y_valid.dtype)\n",
                "answer['X_train.shape'] = X_train.shape\n",
                "answer['X_valid.shape'] = X_valid.shape\n",
                "answer['y_train.shape'] = y_train.shape\n",
                "answer['y_valid.shape'] = y_valid.shape\n",
                "answer['X_train.mean'] = float(X_train.mean())\n",
                "answer['y_train.mean'] = float(y_train.float().mean())\n",
                "answer['X_valid.mean'] = float(X_valid.mean())\n",
                "answer['y_valid.mean'] = float(y_valid.float().mean())\n",
                "\n",
                "print(X_train.dtype, X_valid.dtype, y_train.dtype, y_valid.dtype)\n",
                "print(X_train.shape, X_valid.shape, y_train.shape, y_valid.shape)\n",
                "\n",
                "print(X_train)\n",
                "print(X_valid)\n",
                "print(y_train)\n",
                "print(y_valid)"
            ]
        },
        {
            "cell_type": "markdown",
            "metadata": {},
            "source": [
                "Neural networks are usually trained in float values. Usually in `float32` or `float16`. In this exercise we will use `float32` precision.\n",
                "\n",
                "Convert your data to `float` type"
            ]
        },
        {
            "cell_type": "markdown",
            "metadata": {},
            "source": [
                "Let us visualize the data that we have"
            ]
        },
        {
            "cell_type": "code",
            "execution_count": 52,
            "metadata": {
                "colab": {
                    "base_uri": "https://localhost:8080/",
                    "height": 365
                },
                "colab_type": "code",
                "id": "Z1tFXMwJpS3e",
                "outputId": "e7c2778b-d6f5-4718-ea28-fc8544f0416c"
            },
            "outputs": [
                {
                    "data": {
                        "image/png": "[encoded data removed]",
                        "text/plain": [
                            "<Figure size 640x480 with 1 Axes>"
                        ]
                    },
                    "metadata": {},
                    "output_type": "display_data"
                },
                {
                    "name": "stdout",
                    "output_type": "stream",
                    "text": [
                        "tensor i64 5\n"
                    ]
                }
            ],
            "source": [
                "import matplotlib.pyplot as plt\n",
                "plt.imshow(X_train.squeeze(0))  #\n",
                "plt.show()\n",
                "print(y_train)"
            ]
        },
        {
            "cell_type": "markdown",
            "metadata": {},
            "source": [
                "# Task 2: Build the code for the network"
            ]
        },
        {
            "cell_type": "markdown",
            "metadata": {},
            "source": [
                "It is time to create our neural network (edit the file `src/models/feedforward/simple_fcnn.py`, should be open automatically with this chapter).\n",
                "\n",
                "In pytorch to enable all the magic for training, people enherit their models from `torch.nn.Module`.\n",
                "\n",
                "This enables many utilities that will be used in the future.\n",
                "\n",
                "The main two methods that we have to fill are:\n",
                "- `__init__` method that creates all modules of Neural Network\n",
                "    NOTE: you should also intialize the parent class's instance(`torch.nn.Module` by calling `super().__init__()`)\n",
                "- `__call__` method that is used to calculate preditions\n",
                "\n",
                "\n",
                "We will create a network for quite a general case of Fully-Connected Neural Network\n",
                "\n",
                "Here is the network that you should create:\n",
                "- it should have the structure:\n",
                "    - `network`:\n",
                "        - `Linear channels[0] -> channels[1] -> activation`\n",
                "        - `Linear channels[1] -> channels[2] -> activation`\n",
                "        - and so on\n",
                "    - `classifier`:\n",
                "        - `Linear channels[n] -> n_classes`\n",
                "- the signals that you create should traverse the initialized modules according to the order above\n",
                "\n",
                "That is the simple n-layer fully connected network.\n",
                "\n",
                "The network should have two parts:\n",
                "- `backbone` (containing all the layers except for the last linear layer)\n",
                "- `classifier` (containing only the last layer)\n",
                "\n",
                "We like to isolate the classifier separately because it is a very special layer of the network.\n",
                "\n",
                "It also is a very good practice to wrap the modules where one block is executed after another\n",
                "into a `torch.nn.Sequential`.\n",
                "\n",
                "Note that in theory, we should use a SoftMax activation in the end. \n",
                "But in our case, this activation will be joined with the loss function due to mathematical reasons."
            ]
        },
        {
            "cell_type": "markdown",
            "metadata": {},
            "source": [
                "Let us check that your network actually works"
            ]
        },
        {
            "cell_type": "code",
            "execution_count": 53,
            "metadata": {},
            "outputs": [
                {
                    "name": "stdout",
                    "output_type": "stream",
                    "text": [
                        "[[ 47.534428    36.74655     25.958658    15.17077      4.3828864\n",
                        "   -6.40499    -17.192877   -27.980759   -38.76862    -49.55651   ]\n",
                        " [ 34.73718     26.70789     18.678589    10.649306     2.620015\n",
                        "   -5.409278   -13.438574   -21.467875   -29.497145   -37.526432  ]\n",
                        " [-26.24253    -20.85863    -15.474689   -10.090753    -4.7068243\n",
                        "    0.67710316   6.0610332   11.444956    16.828873    22.21284   ]\n",
                        " [-48.49079    -38.161205   -27.831556   -17.50195     -7.1723228\n",
                        "    3.1572921   13.486914    23.816517    34.146168    44.4758    ]\n",
                        " [ 37.54093     28.97958     20.418238    11.856902     3.295556\n",
                        "   -5.2657924  -13.827126   -22.388475   -30.949816   -39.511166  ]\n",
                        " [ 13.687252    10.5518875    7.4165215    4.2811456    1.1457713\n",
                        "   -1.9895967   -5.1249633   -8.260348   -11.3956995  -14.531096  ]\n",
                        " [ -3.8816497   -3.2775245   -2.6733956   -2.0692725   -1.4651417\n",
                        "   -0.8610102   -0.25688112   0.34724817   0.9513795    1.5555007 ]\n",
                        " [ 11.438421     8.716123     5.9938135    3.271515     0.54921126\n",
                        "   -2.1730912   -4.895398    -7.617699   -10.34       -13.062321  ]\n",
                        " [ 18.083706    13.631853     9.180021     4.728181     0.27634332\n",
                        "   -4.1754923   -8.627324   -13.079159   -17.53101    -21.982828  ]\n",
                        " [  6.346822     4.472488     2.5980935    0.72372353  -1.1506417\n",
                        "   -3.02501     -4.8993764   -6.7737455   -8.648121   -10.522477  ]]\n"
                    ]
                }
            ],
            "source": [
                "simple_network = src.models.feedforward.simple_fcnn.SimpleFCNN([28 * 28], n_classes=10)\n",
                "\n",
                "src.utils.deterministic_init(simple_network)\n",
                "\n",
                "check_input = {'image': torch.randn(10, 28 * 28)}\n",
                "check_output = simple_network(check_input['image'])\n",
                "\n",
                "answer['check_result'] = src.utils.detach_copy(check_output)\n",
                "\n",
                "print(answer['check_result'] )"
            ]
        },
        {
            "cell_type": "markdown",
            "metadata": {},
            "source": [
                "# Task 3: Create loss function and optimizer\n",
                "\n"
            ]
        },
        {
            "cell_type": "markdown",
            "metadata": {},
            "source": [
                "All right, so now we have prepared the dataset and the network.\n",
                "We are still missing several other modules that are important for model training:\n",
                "- optimizer\n",
                "- loss function\n",
                "- metrics\n",
                "\n",
                "To train this network we will use the following components:\n",
                "- `AdamW` as an optimizer (`torch.optim.AdamW`) with standard parameters and `lr` equal to $3 \\cdot 10^{-4}$\n",
                "- `CE` as a loss function (`torch.nn.CrossEntropy`). Note that this loss function already includes `SoftMax` activation function (and we should remember that this activation is compatible with this loss function). We could code it ourselves, it is not hard, but the standard implementation from pytorch is numerically more stable\n",
                "- `accuracy` as a metrics (we will use the one coded in `torchmetrics`)\n",
                "\n",
                "There are also several training tricks that are very nice to use.\n",
                "As such, we will use the learning rate scheduler `torch.optim.schedulers.ReduceLROnPlateu`\n",
                "\n",
                "Let us prepare what we need now!"
            ]
        },
        {
            "cell_type": "code",
            "execution_count": 54,
            "metadata": {
                "colab": {},
                "colab_type": "code",
                "id": "00_2j2igpS3o"
            },
            "outputs": [],
            "source": [
                "import torch\n",
                "import torch.nn as nn\n",
                "import torch.optim as optim\n",
                "from torch.optim.lr_scheduler import ReduceLROnPlateau\n",
                "import torchmetrics\n",
                "\n",
                "loss = nn.CrossEntropyLoss()\n",
                "optimizer = optim.AdamW(simple_network.parameters(), lr=3e-4) # \n",
                "scheduler = ReduceLROnPlateau(\n",
                "    optimizer, \n",
                "    mode='min',           \n",
                "    factor=0.1,           \n",
                "    patience=5,           \n",
                "    # verbose=True,         \n",
                "    min_lr=1e-6 #1e-4 # \n",
                ")\n",
                "metrics = torchmetrics.Accuracy(task='multiclass', num_classes=10)\n",
                "## YOUR CODE HERE\n",
                "# X_train=np.reshape(X_train, (X_train.shape[0],28,28,1))\n",
                "# X_val=np.reshape(X_val, (X_val.shape[0],28,28,1))\n",
                "\n",
                "# X_train_flat = MNIST_train.reshape(784)\n",
                "# X_valid_flat = MNIST_valid.reshape(784)\n"
            ]
        },
        {
            "cell_type": "code",
            "execution_count": 55,
            "metadata": {},
            "outputs": [
                {
                    "name": "stdout",
                    "output_type": "stream",
                    "text": [
                        "CrossEntropyLoss()\n",
                        "AdamW (\n",
                        "Parameter Group 0\n",
                        "    amsgrad: False\n",
                        "    betas: (0.9, 0.999)\n",
                        "    capturable: False\n",
                        "    decoupled_weight_decay: True\n",
                        "    differentiable: False\n",
                        "    eps: 1e-08\n",
                        "    foreach: None\n",
                        "    fused: None\n",
                        "    lr: 0.0003\n",
                        "    maximize: False\n",
                        "    weight_decay: 0.01\n",
                        ")\n",
                        "<torch.optim.lr_scheduler.ReduceLROnPlateau object at 0xffff61c0d350>\n",
                        "MulticlassAccuracy()\n"
                    ]
                }
            ],
            "source": [
                "answer['loss'] = str(loss)\n",
                "answer['optimizer'] = str(optimizer)\n",
                "answer['scheduler'] = str(scheduler)\n",
                "answer['metrics'] = str(metrics)\n",
                "\n",
                "print(loss)\n",
                "print(optimizer)\n",
                "print(scheduler)\n",
                "print(metrics)"
            ]
        },
        {
            "cell_type": "markdown",
            "metadata": {},
            "source": [
                "# Task 4: Create DataLoaders"
            ]
        },
        {
            "cell_type": "markdown",
            "metadata": {},
            "source": [
                "Now it is time to start the training process\n",
                "\n",
                "Firstly, we need to turn our datasets into dataloaders (dataloaders know, how to create batches of data and takes care of shuffling them)\n",
                "\n",
                "You should use the class `torch.utils.data.DataLoader` to create training and validation dataloaders.\n",
                "\n",
                "What is important here is that you should shuffle the data for training, while you should not do it during validation.\n",
                "\n",
                "Also the last batch of the training dataloader may be deficient and should be dropped (there is a special option in the DataLoader class dedicated for that).\n",
                "\n",
                "Use batch size that is given below"
            ]
        },
        {
            "cell_type": "code",
            "execution_count": 56,
            "metadata": {
                "colab": {},
                "colab_type": "code",
                "id": "wZtqiGvfpS3r"
            },
            "outputs": [],
            "source": [
                "from tqdm import trange, tqdm\n",
                "# import neptune\n",
                "import os\n",
                "\n",
                "batch_size = 32 # 16 # 32 # 128 # 512 \n",
                "\n",
                "train_dl = torch.utils.data.DataLoader(\n",
                "    MNIST_train, \n",
                "    batch_size=batch_size, \n",
                "    num_workers=8,\n",
                "    shuffle=True,\n",
                "    pin_memory=True, \n",
                "    persistent_workers=True,\n",
                "    drop_last=True)\n",
                "\n",
                "valid_dl = torch.utils.data.DataLoader(\n",
                "    MNIST_valid, \n",
                "    num_workers=8,\n",
                "    batch_size=batch_size, \n",
                "    pin_memory=True, \n",
                "    persistent_workers=True,\n",
                "    shuffle=False)\n",
                "    "
            ]
        },
        {
            "cell_type": "markdown",
            "metadata": {},
            "source": [
                "# Task 5: Create training loop"
            ]
        },
        {
            "cell_type": "markdown",
            "metadata": {},
            "source": [
                "Firstly, we will use a service that allows to share the training reports. I strongly recommend using mlflow for your experiments, but for the sake of being able to share the results, we will use [neptune.ai](https://neptune.ai/)\n",
                "\n",
                "Create an account there, create your first experiment (and name it something like `MNIST FCNN`)\n",
                "\n",
                "Then create run with `neptune.ai` in your code.\n",
                "\n",
                "After that you will be able to see on that website the flow of your experiment.\n",
                "\n",
                "Then it is time to create the training cycle.\n",
                "\n",
                "Training cycles usually are custom for every network, because of that we will not create one for all the cases.\n",
                "\n",
                "Training cycles run in epochs each containing 2 stages:\n",
                "- training\n",
                "- validation\n",
                "\n",
                "Here is what you should do in the training stage:\n",
                "1. extract training batch from training dataloader\n",
                "2. switch the network to training state (`model.train()`)(will be important for batchnorms and some other modules)\n",
                "2. generate predictions from the training inputs using the model (`model(inputs)`)\n",
                "3. calculate the value of the loss that compares the predictions to the targets\n",
                "4. perform backpropagation (`loss_val.backward()`)\n",
                "5. make optimization step  with optimizer (`optimizer.step()`)\n",
                "6. reset optimizer's gradients (`optimizer.zero_grad()`)\n",
                "7. switch the network to validation state (`model.eval()`)\n",
                "8. evaluate training the accuracy of your model and update metrics that keep track of accuracy and loss (averaged throughout the training step)\n",
                "\n",
                "This should be done in iterations for all training batches that come out from `train_dl`\n",
                "\n",
                "Note that it is extremely important to do `detach` when you memorize accuracy and loss values so that after each iteration RAM is freed automatically by pytorch (because in case we plan to perform backprop, all the intermediate values are needed, and cannot be freed).\n",
                "\n",
                "Once in a while, if you experience RAM leakage, you should make sure that you detach metrics and loss values that you memorize. In case that does not help, delete all the variables manually and after that call pythons's garbage collector (`gc.collect()`). This will help pytorch with cleaning RAM.\n",
                "\n",
                "If you do not want to think about detaching and other aspects of graph backpropagation in some part of your code, you may use `torch.no_grad()` context. Exactly that statement we will use during validation stage of the cycle. This context also can be used as a decorator of a function that does not require gradient propagation.\n",
                "\n",
                "Now it is time to do validation:\n",
                "- make prediction for validation data\n",
                "- calculate accuracy for the predictions for both sets\n",
                "- calculate loss function for the predictions for both sets\n",
                "\n",
                "Note that the code should look very similarly to training cycle. The only difference is that this time we do not perform backpropagation and optimizer step.\n",
                "\n",
                "By the end of each epoch, submit the report about accuracies that you gotten and loss values to neptune.ai (run['losses/loss_value/train'].log(train_loss_value))"
            ]
        },
        {
            "cell_type": "code",
            "execution_count": 57,
            "metadata": {},
            "outputs": [
                {
                    "data": {
                        "text/plain": [
                            "device(type='cpu')"
                        ]
                    },
                    "execution_count": 57,
                    "metadata": {},
                    "output_type": "execute_result"
                }
            ],
            "source": [
                "device = torch.device('cuda' if torch.cuda.is_available() else 'cpu')\n",
                "device"
            ]
        },
        {
            "cell_type": "code",
            "execution_count": 58,
            "metadata": {},
            "outputs": [],
            "source": [
                "import os\n",
                "os.environ[\"NEPTUNE_API_TOKEN\"] = \"12345\"\n"
            ]
        },
        {
            "cell_type": "code",
            "execution_count": 59,
            "metadata": {},
            "outputs": [
                {
                    "name": "stdout",
                    "output_type": "stream",
                    "text": [
                        "1 / 5\n"
                    ]
                },
                {
                    "name": "stderr",
                    "output_type": "stream",
                    "text": [
                        "100%|██████████| 1875/1875 [00:04<00:00, 423.32it/s]\n"
                    ]
                },
                {
                    "name": "stdout",
                    "output_type": "stream",
                    "text": [
                        "Epoch time: 4.43s, Avg batch time: 0.0017s\n"
                    ]
                },
                {
                    "name": "stderr",
                    "output_type": "stream",
                    "text": [
                        "100%|██████████| 313/313 [00:00<00:00, 425.95it/s]\n"
                    ]
                },
                {
                    "name": "stdout",
                    "output_type": "stream",
                    "text": [
                        "0.0 1e-08 <- Validation accuracy debug\n",
                        "134.9890078489861\n",
                        "0.4074000120162964\n",
                        "2 / 5\n"
                    ]
                },
                {
                    "name": "stderr",
                    "output_type": "stream",
                    "text": [
                        "100%|██████████| 1875/1875 [00:04<00:00, 396.83it/s]\n"
                    ]
                },
                {
                    "name": "stdout",
                    "output_type": "stream",
                    "text": [
                        "Epoch time: 4.73s, Avg batch time: 0.0019s\n"
                    ]
                },
                {
                    "name": "stderr",
                    "output_type": "stream",
                    "text": [
                        "100%|██████████| 313/313 [00:00<00:00, 612.16it/s]\n"
                    ]
                },
                {
                    "name": "stdout",
                    "output_type": "stream",
                    "text": [
                        "0.0 1e-08 <- Validation accuracy debug\n",
                        "12.966227162920383\n",
                        "0.5229499936103821\n",
                        "3 / 5\n"
                    ]
                },
                {
                    "name": "stderr",
                    "output_type": "stream",
                    "text": [
                        "100%|██████████| 1875/1875 [00:04<00:00, 428.45it/s]\n"
                    ]
                },
                {
                    "name": "stdout",
                    "output_type": "stream",
                    "text": [
                        "Epoch time: 4.38s, Avg batch time: 0.0018s\n"
                    ]
                },
                {
                    "name": "stderr",
                    "output_type": "stream",
                    "text": [
                        "100%|██████████| 313/313 [00:00<00:00, 556.12it/s]\n"
                    ]
                },
                {
                    "name": "stdout",
                    "output_type": "stream",
                    "text": [
                        "0.0 1e-08 <- Validation accuracy debug\n",
                        "3.6388033664845794\n",
                        "0.6049000024795532\n",
                        "4 / 5\n"
                    ]
                },
                {
                    "name": "stderr",
                    "output_type": "stream",
                    "text": [
                        "100%|██████████| 1875/1875 [00:04<00:00, 440.66it/s]\n"
                    ]
                },
                {
                    "name": "stdout",
                    "output_type": "stream",
                    "text": [
                        "Epoch time: 4.26s, Avg batch time: 0.0017s\n"
                    ]
                },
                {
                    "name": "stderr",
                    "output_type": "stream",
                    "text": [
                        "100%|██████████| 313/313 [00:00<00:00, 592.97it/s]\n"
                    ]
                },
                {
                    "name": "stdout",
                    "output_type": "stream",
                    "text": [
                        "0.0 1e-08 <- Validation accuracy debug\n",
                        "1.9996295775485715\n",
                        "0.6604250073432922\n",
                        "5 / 5\n"
                    ]
                },
                {
                    "name": "stderr",
                    "output_type": "stream",
                    "text": [
                        "100%|██████████| 1875/1875 [00:04<00:00, 440.77it/s]\n"
                    ]
                },
                {
                    "name": "stdout",
                    "output_type": "stream",
                    "text": [
                        "Epoch time: 4.25s, Avg batch time: 0.0017s\n"
                    ]
                },
                {
                    "name": "stderr",
                    "output_type": "stream",
                    "text": [
                        "100%|██████████| 313/313 [00:00<00:00, 567.24it/s]"
                    ]
                },
                {
                    "name": "stdout",
                    "output_type": "stream",
                    "text": [
                        "0.0 1e-08 <- Validation accuracy debug\n",
                        "1.2279627696377984\n",
                        "0.7009400129318237\n",
                        "[134.9890078489861, 12.966227162920383, 3.6388033664845794, 1.9996295775485715, 1.2279627696377984]\n",
                        "[0.4074000120162964, 0.5229499936103821, 0.6049000024795532, 0.6604250073432922, 0.7009400129318237]\n"
                    ]
                },
                {
                    "name": "stderr",
                    "output_type": "stream",
                    "text": [
                        "\n"
                    ]
                }
            ],
            "source": [
                "import gc\n",
                "import time\n",
                "\n",
                "n_epochs = 5\n",
                "\n",
                "def train_model(model, n_epochs, train_dl, valid_dl, loss, optimizer, scheduler=None):\n",
                "    train_loss_history = []\n",
                "    train_acc_history = []\n",
                "    valid_loss_history = []\n",
                "    valid_acc_history = []\n",
                "\n",
                "    ## YOU SHOULD ADD THE nepune.ai TOKEN BEFORE RUNNING THE TRAINING\n",
                "    # run = neptune.init_run(\n",
                "    #     project=\"osa/osa_mnist_fcnn\",  \n",
                "    #     api_token=neptune_token,  \n",
                "    #     name=\"MNIST FCNN Training\",\n",
                "    #     tags=[\"MNIST\", \"FCNN\", \"pytorch\"]\n",
                "    # )\n",
                "\n",
                "    # run[\"parameters/learning_rate\"] = optimizer.param_groups[0]['lr']\n",
                "    # run[\"parameters/epochs\"] = n_epochs\n",
                "    # run[\"parameters/batch_size\"] = train_dl.batch_size\n",
                "    # run[\"parameters/optimizer\"] = type(optimizer).__name__\n",
                "    # run[\"parameters/loss_function\"] = type(loss).__name__\n",
                "\n",
                "     # Инициализация метрик accuracy\n",
                "    train_accuracy_metric = torchmetrics.Accuracy(task='multiclass', num_classes=10) # metrics\n",
                "    valid_accuracy_metric = torchmetrics.Accuracy(task='multiclass', num_classes=10) # metrics\n",
                "\n",
                "    # Перенос метрик на GPU если доступно\n",
                "    if torch.cuda.is_available():\n",
                "        train_accuracy_metric = train_accuracy_metric.cuda()\n",
                "        valid_accuracy_metric = valid_accuracy_metric.cuda()\n",
                "        model = model.cuda()\n",
                "\n",
                "    for epoch in range(n_epochs):\n",
                "        epoch_start = time.time()\n",
                "\n",
                "        train_loss = {'enumerator': 0.0, 'denominator': 1.0e-8}\n",
                "        train_acc = {'enumerator': 0.0, 'denominator': 1.0e-8}\n",
                "        valid_loss = {'enumerator': 0.0, 'denominator': 1.0e-8}\n",
                "        valid_acc = {'enumerator': 0.0, 'denominator': 1.0e-8}\n",
                "\n",
                "        print(epoch + 1, '/', n_epochs)\n",
                "        \n",
                "        batch_times = []\n",
                "\n",
                "        for batch in tqdm(train_dl):\n",
                "            ## YOUR TRAINING CODE HERE\n",
                "            batch_start = time.time()\n",
                "\n",
                "            inputs = batch['image']\n",
                "            targets = batch['label']\n",
                "\n",
                "            if torch.cuda.is_available():\n",
                "                inputs = inputs.cuda()\n",
                "                targets = targets.cuda()\n",
                "\n",
                "            optimizer.zero_grad()\n",
                "            outputs = model(inputs)\n",
                "            \n",
                "            loss_value = loss(outputs, targets)\n",
                "            \n",
                "            loss_value.backward()\n",
                "            optimizer.step()\n",
                "            \n",
                "            train_loss['enumerator'] += loss_value.item() * inputs.size(0)\n",
                "            train_loss['denominator'] += inputs.size(0)\n",
                "            \n",
                "            train_accuracy_metric.update(outputs, targets)\n",
                "            \n",
                "            # Очистка памяти\n",
                "            # del inputs, targets, outputs,\n",
                "            # gc.collect()\n",
                "\n",
                "            batch_time = time.time() - batch_start\n",
                "            batch_times.append(batch_time)\n",
                "\n",
                "        epoch_time = time.time() - epoch_start\n",
                "        avg_batch_time = sum(batch_times) / len(batch_times)\n",
                "        print(f\"Epoch time: {epoch_time:.2f}s, Avg batch time: {avg_batch_time:.4f}s\")\n",
                "        # print(f\"Data loading time: {data_loading_time:.2f}s\")\n",
                "        \n",
                "        model.eval()\n",
                "        with torch.no_grad():\n",
                "            for valid_batch in tqdm(valid_dl):\n",
                "                ## YOUR EVALUATION CODE HERE\n",
                "                inputs = valid_batch['image']\n",
                "                targets = valid_batch['label']\n",
                "                \n",
                "                if torch.cuda.is_available():\n",
                "                    inputs = inputs.cuda()\n",
                "                    targets = targets.cuda()\n",
                "                \n",
                "                outputs = model(inputs)\n",
                "                loss_value = loss(outputs, targets)\n",
                "                \n",
                "                valid_loss['enumerator'] += loss_value.item() * inputs.size(0)\n",
                "                valid_loss['denominator'] += inputs.size(0)\n",
                "                \n",
                "                valid_accuracy_metric.update(outputs, targets)\n",
                "                \n",
                "                # del inputs, targets, outputs\n",
                "                # gc.collect()\n",
                "\n",
                "            print(valid_acc['enumerator'], valid_acc['denominator'], '<- Validation accuracy debug')    \n",
                "\n",
                "            finalized_train_loss = train_loss['enumerator'] / train_loss['denominator']\n",
                "            finalized_train_accuracy = train_accuracy_metric.compute().item() # train_acc['enumerator'] / train_acc['denominator']\n",
                "            \n",
                "            finalized_valid_loss = valid_loss['enumerator'] / valid_loss['denominator']\n",
                "            finalized_valid_accuracy = valid_accuracy_metric.compute().item() # valid_acc['enumerator'] / valid_acc['denominator']\n",
                "\n",
                "            # Logging the progress to neptune\n",
                "            # run[\"metrics/train_loss\"].log(finalized_train_loss)\n",
                "            # run[\"metrics/train_accuracy\"].log(finalized_train_accuracy)\n",
                "            # run[\"metrics/valid_loss\"].log(finalized_valid_loss)\n",
                "            # run[\"metrics/valid_accuracy\"].log(finalized_valid_accuracy)\n",
                "            # run[\"metrics/learning_rate\"].log(optimizer.param_groups[0]['lr'])\n",
                "\n",
                "            if scheduler is not None:\n",
                "                scheduler.step(finalized_valid_loss)\n",
                "                # run[\"metrics/learning_rate\"].log(optimizer.param_groups[0]['lr'])\n",
                "\n",
                "            train_loss_history.append(finalized_train_loss)\n",
                "            train_acc_history.append(finalized_train_accuracy)\n",
                "            valid_loss_history.append(finalized_valid_loss)\n",
                "            valid_acc_history.append(finalized_valid_accuracy)\n",
                "\n",
                "            print(finalized_valid_loss)\n",
                "            print(finalized_valid_accuracy)\n",
                "\n",
                "    # run.stop()\n",
                "    return train_loss_history, train_acc_history, valid_loss_history, valid_acc_history\n",
                "\n",
                "\n",
                "with src.utils.safecatch():\n",
                "    train_loss_history, train_acc_history, valid_loss_history, valid_acc_history = train_model(simple_network, n_epochs, train_dl, valid_dl, loss, optimizer, scheduler)\n",
                "\n",
                "print(valid_loss_history)\n",
                "print(valid_acc_history)"
            ]
        },
        {
            "cell_type": "code",
            "execution_count": 60,
            "metadata": {},
            "outputs": [
                {
                    "data": {
                        "text/plain": [
                            "'{\"X_train.dtype\": \"torch.float32\", \"y_train.dtype\": \"torch.int64\", \"X_valid.dtype\": \"torch.float32\", \"y_valid.dtype\": \"torch.int64\", \"X_train.shape\": [28, 28], \"X_valid.shape\": [28, 28], \"y_train.shape\": [], \"y_valid.shape\": [], \"X_train.mean\": -0.724639892578125, \"y_train.mean\": 5.0, \"X_valid.mean\": -0.815386176109314, \"y_valid.mean\": 7.0, \"check_result\": {\"__ndarray__\": [[47.534427642822266, 36.746551513671875, 25.95865821838379, 15.170769691467285, 4.3828864097595215, -6.404990196228027, -17.1928768157959, -27.980758666992188, -38.768619537353516, -49.55651092529297], [34.737178802490234, 26.707889556884766, 18.6785888671875, 10.649306297302246, 2.6200149059295654, -5.40927791595459, -13.438573837280273, -21.46787452697754, -29.49714469909668, -37.526432037353516], [-26.242530822753906, -20.85862922668457, -15.474688529968262, -10.090752601623535, -4.70682430267334, 0.6771031618118286, 6.061033248901367, 11.444955825805664, 16.828872680664062, 22.212839126586914], [-48.49079132080078, -38.16120529174805, -27.83155632019043, -17.501949310302734, -7.172322750091553, 3.157292127609253, 13.486913681030273, 23.816516876220703, 34.14616775512695, 44.475799560546875], [37.540931701660156, 28.97957992553711, 20.418237686157227, 11.856902122497559, 3.29555606842041, -5.265792369842529, -13.827125549316406, -22.38847541809082, -30.94981575012207, -39.511165618896484], [13.687252044677734, 10.551887512207031, 7.4165215492248535, 4.2811455726623535, 1.1457712650299072, -1.9895967245101929, -5.124963283538818, -8.260348320007324, -11.395699501037598, -14.531096458435059], [-3.8816497325897217, -3.277524471282959, -2.6733956336975098, -2.069272518157959, -1.4651416540145874, -0.8610101938247681, -0.25688111782073975, 0.3472481667995453, 0.9513794779777527, 1.5555007457733154], [11.438421249389648, 8.7161226272583, 5.993813514709473, 3.271514892578125, 0.5492112636566162, -2.173091173171997, -4.895398139953613, -7.617699146270752, -10.34000015258789, -13.062320709228516], [18.08370590209961, 13.631853103637695, 9.180021286010742, 4.728180885314941, 0.27634331583976746, -4.175492286682129, -8.627324104309082, -13.079158782958984, -17.531009674072266, -21.98282814025879], [6.3468217849731445, 4.472487926483154, 2.5980935096740723, 0.7237235307693481, -1.150641679763794, -3.025010108947754, -4.899376392364502, -6.773745536804199, -8.648120880126953, -10.522477149963379]], \"dtype\": \"float32\", \"shape\": [10, 10], \"Corder\": true}, \"loss\": \"CrossEntropyLoss()\", \"optimizer\": \"AdamW (\\\\nParameter Group 0\\\\n    amsgrad: False\\\\n    betas: (0.9, 0.999)\\\\n    capturable: False\\\\n    decoupled_weight_decay: True\\\\n    differentiable: False\\\\n    eps: 1e-08\\\\n    foreach: None\\\\n    fused: None\\\\n    lr: 0.0003\\\\n    maximize: False\\\\n    weight_decay: 0.01\\\\n)\", \"scheduler\": \"<torch.optim.lr_scheduler.ReduceLROnPlateau object at 0xffff61c0d350>\", \"metrics\": \"MulticlassAccuracy()\", \"train_loss_history\": [296.3329828897618, 59.097778972615885, 6.119415641728017, 2.9456201002046525, 1.7064953548657038], \"valid_loss_history\": [134.9890078489861, 12.966227162920383, 3.6388033664845794, 1.9996295775485715, 1.2279627696377984], \"train_acc_history\": [0.25218334794044495, 0.3794916570186615, 0.4897777736186981, 0.5649124979972839, 0.6188966631889343], \"valid_ann_history\": [0.4074000120162964, 0.5229499936103821, 0.6049000024795532, 0.6604250073432922, 0.7009400129318237]}'"
                        ]
                    },
                    "execution_count": 60,
                    "metadata": {},
                    "output_type": "execute_result"
                }
            ],
            "source": [
                "answer['train_loss_history'] = train_loss_history\n",
                "answer['valid_loss_history'] = valid_loss_history\n",
                "answer['train_acc_history'] = train_acc_history\n",
                "answer['valid_ann_history'] = valid_acc_history\n",
                "\n",
                "json_tricks.dump(answer, '.answer.json')"
            ]
        },
        {
            "cell_type": "markdown",
            "metadata": {},
            "source": [
                "# Task 7. Experiment time!"
            ]
        },
        {
            "cell_type": "markdown",
            "metadata": {},
            "source": [
                "It is the time for fun now!\n",
                "\n",
                "We have created everything that is needed for the network to train.\n",
                "\n",
                "Let us train some networks and visualize, what they see.\n",
                "\n",
                "With the code that you have created, make:\n",
                "- 1-layer FCNN (yes, simple Multiclass Logistic Regression)\n",
                "- 2-layer FCNN\n",
                "- 3-layer FCNN \n",
                "\n",
                "Train every of these networks for 100 epochs\n",
                "\n",
                "Check, what are the patterns that they learn\n",
                "\n",
                "To check the patterns, you have to take the weights of the first layer of the network, reshape them and plot."
            ]
        },
        {
            "cell_type": "code",
            "execution_count": 61,
            "metadata": {},
            "outputs": [
                {
                    "name": "stdout",
                    "output_type": "stream",
                    "text": [
                        "1 / 5\n"
                    ]
                },
                {
                    "name": "stderr",
                    "output_type": "stream",
                    "text": [
                        "  0%|          | 0/1875 [00:00<?, ?it/s]"
                    ]
                },
                {
                    "name": "stderr",
                    "output_type": "stream",
                    "text": [
                        "100%|██████████| 1875/1875 [00:05<00:00, 373.09it/s]\n"
                    ]
                },
                {
                    "name": "stdout",
                    "output_type": "stream",
                    "text": [
                        "Epoch time: 5.03s, Avg batch time: 0.0021s\n"
                    ]
                },
                {
                    "name": "stderr",
                    "output_type": "stream",
                    "text": [
                        "100%|██████████| 313/313 [00:00<00:00, 496.45it/s]\n"
                    ]
                },
                {
                    "name": "stdout",
                    "output_type": "stream",
                    "text": [
                        "0.0 1e-08 <- Validation accuracy debug\n",
                        "0.32138731605676457\n",
                        "0.9021000266075134\n",
                        "2 / 5\n"
                    ]
                },
                {
                    "name": "stderr",
                    "output_type": "stream",
                    "text": [
                        "100%|██████████| 1875/1875 [00:05<00:00, 317.07it/s]\n"
                    ]
                },
                {
                    "name": "stdout",
                    "output_type": "stream",
                    "text": [
                        "Epoch time: 5.92s, Avg batch time: 0.0025s\n"
                    ]
                },
                {
                    "name": "stderr",
                    "output_type": "stream",
                    "text": [
                        "100%|██████████| 313/313 [00:00<00:00, 485.36it/s]\n"
                    ]
                },
                {
                    "name": "stdout",
                    "output_type": "stream",
                    "text": [
                        "0.0 1e-08 <- Validation accuracy debug\n",
                        "0.29645564182669076\n",
                        "0.909250020980835\n",
                        "3 / 5\n"
                    ]
                },
                {
                    "name": "stderr",
                    "output_type": "stream",
                    "text": [
                        "100%|██████████| 1875/1875 [00:04<00:00, 379.43it/s]\n"
                    ]
                },
                {
                    "name": "stdout",
                    "output_type": "stream",
                    "text": [
                        "Epoch time: 4.94s, Avg batch time: 0.0020s\n"
                    ]
                },
                {
                    "name": "stderr",
                    "output_type": "stream",
                    "text": [
                        "100%|██████████| 313/313 [00:00<00:00, 629.32it/s]\n"
                    ]
                },
                {
                    "name": "stdout",
                    "output_type": "stream",
                    "text": [
                        "0.0 1e-08 <- Validation accuracy debug\n",
                        "0.30443872104554726\n",
                        "0.9107666611671448\n",
                        "4 / 5\n"
                    ]
                },
                {
                    "name": "stderr",
                    "output_type": "stream",
                    "text": [
                        "100%|██████████| 1875/1875 [00:04<00:00, 416.19it/s]\n"
                    ]
                },
                {
                    "name": "stdout",
                    "output_type": "stream",
                    "text": [
                        "Epoch time: 4.51s, Avg batch time: 0.0018s\n"
                    ]
                },
                {
                    "name": "stderr",
                    "output_type": "stream",
                    "text": [
                        "100%|██████████| 313/313 [00:00<00:00, 495.97it/s]\n"
                    ]
                },
                {
                    "name": "stdout",
                    "output_type": "stream",
                    "text": [
                        "0.0 1e-08 <- Validation accuracy debug\n",
                        "0.3018479737547001\n",
                        "0.911424994468689\n",
                        "5 / 5\n"
                    ]
                },
                {
                    "name": "stderr",
                    "output_type": "stream",
                    "text": [
                        "100%|██████████| 1875/1875 [00:05<00:00, 352.24it/s]\n"
                    ]
                },
                {
                    "name": "stdout",
                    "output_type": "stream",
                    "text": [
                        "Epoch time: 5.32s, Avg batch time: 0.0022s\n"
                    ]
                },
                {
                    "name": "stderr",
                    "output_type": "stream",
                    "text": [
                        "100%|██████████| 313/313 [00:01<00:00, 239.63it/s]"
                    ]
                },
                {
                    "name": "stdout",
                    "output_type": "stream",
                    "text": [
                        "0.0 1e-08 <- Validation accuracy debug\n",
                        "0.30100148967176377\n",
                        "0.9123200178146362\n"
                    ]
                },
                {
                    "name": "stderr",
                    "output_type": "stream",
                    "text": [
                        "\n"
                    ]
                }
            ],
            "source": [
                "one_layer_fcnn = src.models.feedforward.simple_fcnn.SimpleFCNN(\n",
                "    [28 * 28], \n",
                "    n_classes=10,\n",
                "    activation=torch.nn.LeakyReLU)\n",
                "\n",
                "## YOUR CODE HERE\n",
                "n_epochs = 5 # 100\n",
                "\n",
                "one_layer_optimizer = torch.optim.AdamW(one_layer_fcnn.parameters(), lr=1.0e-3)\n",
                "# one_layer_scheduler = torch.optim.lr_scheduler.ReduceLROnPlateau(one_layer_optimizer, patience=5)\n",
                "# train_model(one_layer_fcnn, n_epochs, train_dl, valid_dl, loss, one_layer_optimizer)\n",
                "## YOUR CODE HERE\n",
                "train_loss_history_1, train_acc_history_1, valid_loss_history_1, valid_acc_history_1 = train_model(\n",
                "    one_layer_fcnn, n_epochs, train_dl, valid_dl, loss, one_layer_optimizer #, one_layer_scheduler\n",
                ")"
            ]
        },
        {
            "cell_type": "code",
            "execution_count": 62,
            "metadata": {},
            "outputs": [
                {
                    "data": {
                        "text/plain": [
                            "<matplotlib.image.AxesImage at 0xffff619b9050>"
                        ]
                    },
                    "execution_count": 62,
                    "metadata": {},
                    "output_type": "execute_result"
                },
                {
                    "data": {
                        "image/png": "[encoded data removed]",
                        "text/plain": [
                            "<Figure size 640x480 with 1 Axes>"
                        ]
                    },
                    "metadata": {},
                    "output_type": "display_data"
                }
            ],
            "source": [
                "W = one_layer_fcnn.classifier.weight\n",
                "W = W.reshape(10, 28, 28)\n",
                "plt.imshow(W[0].detach())"
            ]
        },
        {
            "cell_type": "code",
            "execution_count": 63,
            "metadata": {},
            "outputs": [
                {
                    "name": "stdout",
                    "output_type": "stream",
                    "text": [
                        "1 / 5\n"
                    ]
                },
                {
                    "name": "stderr",
                    "output_type": "stream",
                    "text": [
                        "100%|██████████| 1875/1875 [00:14<00:00, 129.85it/s]\n"
                    ]
                },
                {
                    "name": "stdout",
                    "output_type": "stream",
                    "text": [
                        "Epoch time: 14.44s, Avg batch time: 0.0068s\n"
                    ]
                },
                {
                    "name": "stderr",
                    "output_type": "stream",
                    "text": [
                        "100%|██████████| 313/313 [00:00<00:00, 431.82it/s]\n"
                    ]
                },
                {
                    "name": "stdout",
                    "output_type": "stream",
                    "text": [
                        "0.0 1e-08 <- Validation accuracy debug\n",
                        "0.202936581016874\n",
                        "0.9405999779701233\n",
                        "2 / 5\n"
                    ]
                },
                {
                    "name": "stderr",
                    "output_type": "stream",
                    "text": [
                        "100%|██████████| 1875/1875 [00:09<00:00, 191.11it/s]\n"
                    ]
                },
                {
                    "name": "stdout",
                    "output_type": "stream",
                    "text": [
                        "Epoch time: 9.81s, Avg batch time: 0.0046s\n"
                    ]
                },
                {
                    "name": "stderr",
                    "output_type": "stream",
                    "text": [
                        "100%|██████████| 313/313 [00:00<00:00, 430.72it/s]\n"
                    ]
                },
                {
                    "name": "stdout",
                    "output_type": "stream",
                    "text": [
                        "0.0 1e-08 <- Validation accuracy debug\n",
                        "0.1541485630052485\n",
                        "0.9465500116348267\n",
                        "3 / 5\n"
                    ]
                },
                {
                    "name": "stderr",
                    "output_type": "stream",
                    "text": [
                        "100%|██████████| 1875/1875 [00:09<00:00, 203.73it/s]\n"
                    ]
                },
                {
                    "name": "stdout",
                    "output_type": "stream",
                    "text": [
                        "Epoch time: 9.20s, Avg batch time: 0.0043s\n"
                    ]
                },
                {
                    "name": "stderr",
                    "output_type": "stream",
                    "text": [
                        "100%|██████████| 313/313 [00:00<00:00, 391.96it/s]\n"
                    ]
                },
                {
                    "name": "stdout",
                    "output_type": "stream",
                    "text": [
                        "0.0 1e-08 <- Validation accuracy debug\n",
                        "0.1552156676149306\n",
                        "0.9488999843597412\n",
                        "4 / 5\n"
                    ]
                },
                {
                    "name": "stderr",
                    "output_type": "stream",
                    "text": [
                        "100%|██████████| 1875/1875 [00:09<00:00, 197.63it/s]\n"
                    ]
                },
                {
                    "name": "stdout",
                    "output_type": "stream",
                    "text": [
                        "Epoch time: 9.49s, Avg batch time: 0.0044s\n"
                    ]
                },
                {
                    "name": "stderr",
                    "output_type": "stream",
                    "text": [
                        "100%|██████████| 313/313 [00:00<00:00, 406.70it/s]\n"
                    ]
                },
                {
                    "name": "stdout",
                    "output_type": "stream",
                    "text": [
                        "0.0 1e-08 <- Validation accuracy debug\n",
                        "0.12798533438543097\n",
                        "0.952049970626831\n",
                        "5 / 5\n"
                    ]
                },
                {
                    "name": "stderr",
                    "output_type": "stream",
                    "text": [
                        "100%|██████████| 1875/1875 [00:10<00:00, 185.78it/s]\n"
                    ]
                },
                {
                    "name": "stdout",
                    "output_type": "stream",
                    "text": [
                        "Epoch time: 10.09s, Avg batch time: 0.0047s\n"
                    ]
                },
                {
                    "name": "stderr",
                    "output_type": "stream",
                    "text": [
                        "100%|██████████| 313/313 [00:00<00:00, 416.63it/s]"
                    ]
                },
                {
                    "name": "stdout",
                    "output_type": "stream",
                    "text": [
                        "0.0 1e-08 <- Validation accuracy debug\n",
                        "0.10675927534996099\n",
                        "0.95524001121521\n"
                    ]
                },
                {
                    "name": "stderr",
                    "output_type": "stream",
                    "text": [
                        "\n"
                    ]
                }
            ],
            "source": [
                "## YOUR CODE HERE\n",
                "two_layer_fcnn = src.models.feedforward.simple_fcnn.SimpleFCNN(\n",
                "    [28 * 28, 128],  # 784 -> 128 -> 10\n",
                "    n_classes=10,\n",
                "    activation=nn.LeakyReLU\n",
                ")\n",
                "\n",
                "two_layer_optimizer = torch.optim.AdamW(two_layer_fcnn.parameters(), lr=1.0e-3)\n",
                "# two_layer_scheduler = torch.optim.lr_scheduler.ReduceLROnPlateau(two_layer_optimizer, patience=5)\n",
                "\n",
                "train_loss_history_2, train_acc_history_2, valid_loss_history_2, valid_acc_history_2 = train_model(\n",
                "    two_layer_fcnn, n_epochs, train_dl, valid_dl, loss, two_layer_optimizer #, two_layer_scheduler\n",
                ")\n"
            ]
        },
        {
            "cell_type": "code",
            "execution_count": 64,
            "metadata": {},
            "outputs": [
                {
                    "data": {
                        "text/plain": [
                            "<matplotlib.image.AxesImage at 0xffff61763910>"
                        ]
                    },
                    "execution_count": 64,
                    "metadata": {},
                    "output_type": "execute_result"
                },
                {
                    "data": {
                        "image/png": "[encoded data removed]",
                        "text/plain": [
                            "<Figure size 640x480 with 1 Axes>"
                        ]
                    },
                    "metadata": {},
                    "output_type": "display_data"
                }
            ],
            "source": [
                "# W2 = two_layer_fcnn.classifier.weight\n",
                "W2 = list(two_layer_fcnn.parameters())[0]\n",
                "W2 = W2.reshape(128, 28, 28)\n",
                "plt.imshow(W2[0].detach())"
            ]
        },
        {
            "cell_type": "code",
            "execution_count": 65,
            "metadata": {},
            "outputs": [
                {
                    "name": "stdout",
                    "output_type": "stream",
                    "text": [
                        "1 / 5\n"
                    ]
                },
                {
                    "name": "stderr",
                    "output_type": "stream",
                    "text": [
                        "  0%|          | 0/1875 [00:00<?, ?it/s]"
                    ]
                },
                {
                    "name": "stderr",
                    "output_type": "stream",
                    "text": [
                        "100%|██████████| 1875/1875 [00:12<00:00, 151.01it/s]\n"
                    ]
                },
                {
                    "name": "stdout",
                    "output_type": "stream",
                    "text": [
                        "Epoch time: 12.42s, Avg batch time: 0.0059s\n"
                    ]
                },
                {
                    "name": "stderr",
                    "output_type": "stream",
                    "text": [
                        "100%|██████████| 313/313 [00:01<00:00, 262.09it/s]\n"
                    ]
                },
                {
                    "name": "stdout",
                    "output_type": "stream",
                    "text": [
                        "0.0 1e-08 <- Validation accuracy debug\n",
                        "0.1585771986564898\n",
                        "0.9509000182151794\n",
                        "2 / 5\n"
                    ]
                },
                {
                    "name": "stderr",
                    "output_type": "stream",
                    "text": [
                        "100%|██████████| 1875/1875 [00:08<00:00, 217.08it/s]\n"
                    ]
                },
                {
                    "name": "stdout",
                    "output_type": "stream",
                    "text": [
                        "Epoch time: 8.64s, Avg batch time: 0.0039s\n"
                    ]
                },
                {
                    "name": "stderr",
                    "output_type": "stream",
                    "text": [
                        "100%|██████████| 313/313 [00:00<00:00, 411.60it/s]\n"
                    ]
                },
                {
                    "name": "stdout",
                    "output_type": "stream",
                    "text": [
                        "0.0 1e-08 <- Validation accuracy debug\n",
                        "0.12923039109004775\n",
                        "0.9556499719619751\n",
                        "3 / 5\n"
                    ]
                },
                {
                    "name": "stderr",
                    "output_type": "stream",
                    "text": [
                        "100%|██████████| 1875/1875 [00:07<00:00, 256.89it/s]\n"
                    ]
                },
                {
                    "name": "stdout",
                    "output_type": "stream",
                    "text": [
                        "Epoch time: 7.30s, Avg batch time: 0.0033s\n"
                    ]
                },
                {
                    "name": "stderr",
                    "output_type": "stream",
                    "text": [
                        "100%|██████████| 313/313 [00:01<00:00, 272.32it/s]\n"
                    ]
                },
                {
                    "name": "stdout",
                    "output_type": "stream",
                    "text": [
                        "0.0 1e-08 <- Validation accuracy debug\n",
                        "0.10718776322504031\n",
                        "0.9595666527748108\n",
                        "4 / 5\n"
                    ]
                },
                {
                    "name": "stderr",
                    "output_type": "stream",
                    "text": [
                        "100%|██████████| 1875/1875 [00:09<00:00, 206.98it/s]\n"
                    ]
                },
                {
                    "name": "stdout",
                    "output_type": "stream",
                    "text": [
                        "Epoch time: 9.06s, Avg batch time: 0.0042s\n"
                    ]
                },
                {
                    "name": "stderr",
                    "output_type": "stream",
                    "text": [
                        "100%|██████████| 313/313 [00:01<00:00, 289.82it/s]\n"
                    ]
                },
                {
                    "name": "stdout",
                    "output_type": "stream",
                    "text": [
                        "0.0 1e-08 <- Validation accuracy debug\n",
                        "0.10509430737463957\n",
                        "0.9615749716758728\n",
                        "5 / 5\n"
                    ]
                },
                {
                    "name": "stderr",
                    "output_type": "stream",
                    "text": [
                        "100%|██████████| 1875/1875 [00:08<00:00, 212.42it/s]\n"
                    ]
                },
                {
                    "name": "stdout",
                    "output_type": "stream",
                    "text": [
                        "Epoch time: 8.83s, Avg batch time: 0.0041s\n"
                    ]
                },
                {
                    "name": "stderr",
                    "output_type": "stream",
                    "text": [
                        "100%|██████████| 313/313 [00:00<00:00, 358.97it/s]"
                    ]
                },
                {
                    "name": "stdout",
                    "output_type": "stream",
                    "text": [
                        "0.0 1e-08 <- Validation accuracy debug\n",
                        "0.09639289657832961\n",
                        "0.9633200168609619\n"
                    ]
                },
                {
                    "name": "stderr",
                    "output_type": "stream",
                    "text": [
                        "\n"
                    ]
                }
            ],
            "source": [
                "three_layer_fcnn = src.models.feedforward.simple_fcnn.SimpleFCNN(\n",
                "    [28 * 28, 256, 128],  # 784 -> 256 -> 128 -> 10\n",
                "    n_classes=10,\n",
                "    activation=nn.LeakyReLU\n",
                ")\n",
                "\n",
                "three_layer_optimizer = torch.optim.AdamW(three_layer_fcnn.parameters(), lr=1.0e-3)\n",
                "# three_layer_scheduler = torch.optim.lr_scheduler.ReduceLROnPlateau(three_layer_optimizer, patience=5)\n",
                "\n",
                "train_loss_history_3, train_acc_history_3, valid_loss_history_3, valid_acc_history_3 = train_model(\n",
                "    three_layer_fcnn, n_epochs, train_dl, valid_dl, loss, three_layer_optimizer #, three_layer_scheduler\n",
                ")"
            ]
        },
        {
            "cell_type": "code",
            "execution_count": 66,
            "metadata": {},
            "outputs": [
                {
                    "data": {
                        "text/plain": [
                            "<matplotlib.image.AxesImage at 0xffff616c9690>"
                        ]
                    },
                    "execution_count": 66,
                    "metadata": {},
                    "output_type": "execute_result"
                },
                {
                    "data": {
                        "image/png": "[encoded data removed]",
                        "text/plain": [
                            "<Figure size 640x480 with 1 Axes>"
                        ]
                    },
                    "metadata": {},
                    "output_type": "display_data"
                }
            ],
            "source": [
                "# W3 = three_layer_fcnn.classifier.weight\n",
                "W3 = list(three_layer_fcnn.parameters())[0]\n",
                "W3 = W3.reshape(256, 28, 28)\n",
                "plt.imshow(W3[0].detach())"
            ]
        },
        {
            "cell_type": "markdown",
            "metadata": {},
            "source": [
                "# Time to think\n",
                "\n",
                "What converges faster\n",
                "- 1-layer NN (Logistic Regression)\n",
                "- 2-layer NN\n",
                "- 3-layer NN\n",
                "\n",
                "Maybe you want to train a deeper network? Say, with 10 layers?\n",
                "\n",
                "What do the patterns from 1-layer NN resemble? Should they?\n",
                "What do the patterns from 2-layer and 3-layer NN resemble? Should they?"
            ]
        },
        {
            "cell_type": "markdown",
            "metadata": {},
            "source": [
                "# Task 8. More experiments!\n",
                "\n",
                "Try to train the networks created above with different actiavtion functions (Concentrate on 2-Layer NN):\n",
                "- Sigmoid\n",
                "- Tanh\n",
                "- ReLU\n",
                "- LeakyReLU\n",
                "- Swish\n",
                "\n",
                "Try to train them with optimizers\n",
                "- AdamW\n",
                "- SGD\n",
                "\n",
                "Which one is easier to tune?\n",
                "\n",
                "Try to train these networks on Google Colab for longer\n",
                "Find the best possible batch size (note that the batch sizes usually are selected as powers of 2)\n",
                "- 2\n",
                "- 4\n",
                "- 8\n",
                "- 16\n",
                "- etc.\n",
                "\n",
                "Share your best recepie with everyone and discuss, how did you improve your results"
            ]
        }
    ],
    "metadata": {
        "accelerator": "GPU",
        "colab": {
            "collapsed_sections": [],
            "name": "Lesson 5 Digits Recognition Video.ipynb",
            "provenance": [],
            "version": "0.3.2"
        },
        "kernelspec": {
            "display_name": ".venv",
            "language": "python",
            "name": "python3"
        },
        "language_info": {
            "codemirror_mode": {
                "name": "ipython",
                "version": 3
            },
            "file_extension": ".py",
            "mimetype": "text/x-python",
            "name": "python",
            "nbconvert_exporter": "python",
            "pygments_lexer": "ipython3",
            "version": "3.11.13"
        }
    },
    "nbformat": 4,
    "nbformat_minor": 1
}
